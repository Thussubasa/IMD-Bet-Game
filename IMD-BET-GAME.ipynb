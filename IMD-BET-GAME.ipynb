{
 "cells": [
  {
   "cell_type": "code",
   "execution_count": 4,
   "metadata": {
    "collapsed": false
   },
   "outputs": [
    {
     "name": "stdout",
     "output_type": "stream",
     "text": [
      "[[-1 -2 -1 ...,  2  3  2]\n",
      " [-1 -2 -1 ...,  2  3  2]\n",
      " [-1 -2 -1 ...,  2  3  2]\n",
      " ..., \n",
      " [-1 -2 -1 ...,  2  3  2]\n",
      " [-1 -2 -1 ...,  2  3  2]\n",
      " [-1 -2 -1 ...,  2  3  2]]\n"
     ]
    }
   ],
   "source": [
    "from random import randint\n",
    "import numpy as np\n",
    "\n",
    "f = 0\n",
    "\n",
    "step = max(0,f)\n",
    "\n",
    "def rollDice():\n",
    "    dice = randint(1,6)\n",
    "    return dice;\n",
    "\n",
    "\n",
    "def badLuck():\n",
    "    dice = randint(1,1000)\n",
    "    if dice == 1:\n",
    "        return True\n",
    "    else:\n",
    "        return False\n",
    "\n",
    "rounds = []\n",
    "round = []\n",
    "\n",
    "for i in range(1, 500):\n",
    "    for j in range(1, 100):\n",
    "        dice = rollDice()\n",
    "        if dice == 1 or dice == 2:\n",
    "            if badLuck() == False:\n",
    "                step = step - 1\n",
    "            else:\n",
    "                step = 0\n",
    "        elif dice == 3 or dice == 4 or dice == 5:\n",
    "            if badLuck() == False:\n",
    "                step = step + 1\n",
    "        else:\n",
    "            step = 0\n",
    "            if badLuck() == False:\n",
    "                step = step + rollDice()\n",
    "            else:\n",
    "                step = 0\n",
    "        round.append(step)\n",
    "    rounds.append(round)\n",
    "\n",
    "np_round = np.array(round)\n",
    "np_rounds = np.array(rounds)\n",
    "\n",
    "print(np_rounds)"
   ]
  },
  {
   "cell_type": "code",
   "execution_count": null,
   "metadata": {
    "collapsed": true
   },
   "outputs": [],
   "source": []
  }
 ],
 "metadata": {
  "kernelspec": {
   "display_name": "Python 3",
   "language": "python",
   "name": "python3"
  },
  "language_info": {
   "codemirror_mode": {
    "name": "ipython",
    "version": 3
   },
   "file_extension": ".py",
   "mimetype": "text/x-python",
   "name": "python",
   "nbconvert_exporter": "python",
   "pygments_lexer": "ipython3",
   "version": "3.6.0"
  }
 },
 "nbformat": 4,
 "nbformat_minor": 2
}
